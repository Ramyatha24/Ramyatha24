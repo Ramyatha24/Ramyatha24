{
 "cells": [
  {
   "cell_type": "code",
   "execution_count": 1,
   "id": "bea4689f-5959-4ac0-910a-ca0b5ec3cbd7",
   "metadata": {},
   "outputs": [
    {
     "name": "stdin",
     "output_type": "stream",
     "text": [
      "enter a value 2\n"
     ]
    },
    {
     "name": "stdout",
     "output_type": "stream",
     "text": [
      "a is non-zero\n"
     ]
    }
   ],
   "source": [
    "#to see if a number is non-zero or not\n",
    "a=int(input(\"enter a value\"))\n",
    "if a==0:\n",
    "    print(\"a is 0\")\n",
    "else:\n",
    "    print(\"a is non-zero\")"
   ]
  },
  {
   "cell_type": "code",
   "execution_count": 4,
   "id": "df23b7ab-28f7-4e87-90c5-8947f42c0711",
   "metadata": {},
   "outputs": [
    {
     "name": "stdin",
     "output_type": "stream",
     "text": [
      "enter a value 3\n",
      "enter b value 6\n"
     ]
    },
    {
     "name": "stdout",
     "output_type": "stream",
     "text": [
      "B is gt\n"
     ]
    }
   ],
   "source": [
    "#greatest of 2 nos\n",
    "a=int(input(\"enter a value\"))\n",
    "b=int(input(\"enter b value\"))  \n",
    "if a>b:\n",
    "      print(\"A is gt\")\n",
    "else:\n",
    "       print(\"B is gt\")\n",
    "      "
   ]
  },
  {
   "cell_type": "code",
   "execution_count": 5,
   "id": "fcbac682-a05a-4531-8959-7f694e7a48b5",
   "metadata": {},
   "outputs": [
    {
     "name": "stdin",
     "output_type": "stream",
     "text": [
      "enter a value 3\n"
     ]
    },
    {
     "name": "stdout",
     "output_type": "stream",
     "text": [
      "+ve\n"
     ]
    }
   ],
   "source": [
    "# +ve or not\n",
    "a=int(input(\"enter a value\"))\n",
    "if(a>0):\n",
    "    print(\"+ve\")\n",
    "else:\n",
    "    print(\"-ve\")"
   ]
  },
  {
   "cell_type": "code",
   "execution_count": 10,
   "id": "b69e5742-a4f4-47e9-a59b-89e0bb3f160e",
   "metadata": {},
   "outputs": [
    {
     "name": "stdin",
     "output_type": "stream",
     "text": [
      "enter a value a\n"
     ]
    },
    {
     "name": "stdout",
     "output_type": "stream",
     "text": [
      "vowell\n"
     ]
    }
   ],
   "source": [
    "# to check vowel or not\n",
    "vowel=input(\"enter a value\")\n",
    "if vowel=='a' or vowel==' e' or vowel=='i' or vowel=='o' or vowel=='u':\n",
    "    print(\"vowell\")\n",
    "else:\n",
    "    print(\"constant\")"
   ]
  },
  {
   "cell_type": "code",
   "execution_count": 11,
   "id": "aa4e9d4b-6327-4c8a-9331-96c15742605e",
   "metadata": {},
   "outputs": [
    {
     "name": "stdin",
     "output_type": "stream",
     "text": [
      "enter a value 3\n",
      "enter b value 5\n",
      "enter b value 6\n"
     ]
    },
    {
     "name": "stdout",
     "output_type": "stream",
     "text": [
      "c is gt\n"
     ]
    }
   ],
   "source": [
    "#greatest of 3 nos\n",
    "a=int(input(\"enter a value\"))\n",
    "b=int(input(\"enter b value\")) \n",
    "c=int(input(\"enter c value\")) \n",
    "if (a>b and a>c):\n",
    "     print(\"A is gt\")\n",
    "elif (b>c):\n",
    "    print(\"B is gt\")\n",
    "else:\n",
    "    print(\"c is gt\")\n",
    "    \n",
    "      "
   ]
  },
  {
   "cell_type": "code",
   "execution_count": 13,
   "id": "e98018a8-ab41-41d9-b3c9-59a6b807b3d1",
   "metadata": {},
   "outputs": [
    {
     "name": "stdin",
     "output_type": "stream",
     "text": [
      "enter a value 3\n",
      "enter b value 4\n",
      "enter b value 6\n"
     ]
    },
    {
     "name": "stdout",
     "output_type": "stream",
     "text": [
      "A is st\n"
     ]
    }
   ],
   "source": [
    "#smallest of 3 nos\n",
    "a=int(input(\"enter a value\"))\n",
    "b=int(input(\"enter b value\")) \n",
    "c=int(input(\"enter c value\")) \n",
    "if (a<b and a<c):\n",
    "     print(\"A is st\")\n",
    "elif (b<c):\n",
    "    print(\"B is st\")\n",
    "else:\n",
    "    print(\"c is st\")"
   ]
  },
  {
   "cell_type": "code",
   "execution_count": 19,
   "id": "d48d05a6-2d72-4459-ad23-b14916c51241",
   "metadata": {},
   "outputs": [
    {
     "name": "stdin",
     "output_type": "stream",
     "text": [
      "enter a value 5\n"
     ]
    },
    {
     "name": "stdout",
     "output_type": "stream",
     "text": [
      "odd\n"
     ]
    }
   ],
   "source": [
    "#even or odd\n",
    "a=int(input(\"enter a value\"))\n",
    "if ((a%2)==0):\n",
    "    print(\"even\")\n",
    "else:\n",
    "    print(\"odd\")"
   ]
  },
  {
   "cell_type": "code",
   "execution_count": 20,
   "id": "351c83fc-0155-429a-a213-49117daadd84",
   "metadata": {},
   "outputs": [
    {
     "name": "stdin",
     "output_type": "stream",
     "text": [
      "enter a value 2023\n"
     ]
    },
    {
     "name": "stdout",
     "output_type": "stream",
     "text": [
      "nay\n"
     ]
    }
   ],
   "source": [
    "#to check for a leap year\n",
    "l=int(input(\"enter a value\"))\n",
    "if l%4==0:\n",
    "    print(\"leap year\")\n",
    "else:\n",
    "    print(\"nay\")"
   ]
  },
  {
   "cell_type": "code",
   "execution_count": 22,
   "id": "ce9d83de-c125-4a80-9333-13ae002d1e5d",
   "metadata": {},
   "outputs": [
    {
     "name": "stdin",
     "output_type": "stream",
     "text": [
      "enter s1 value 90\n",
      "enter s2 value 80\n",
      "enter s3 value 70\n"
     ]
    },
    {
     "name": "stdout",
     "output_type": "stream",
     "text": [
      "eligible\n"
     ]
    }
   ],
   "source": [
    "#to check if a student is eligible for sem-4\n",
    "s1=int(input(\"enter s1 value\"))\n",
    "s2=int(input(\"enter s2 value\")) \n",
    "s3=int(input(\"enter s3 value\")) \n",
    "if(s1>85 and s2>75 and s3>65):\n",
    "    print(\"eligible\")\n",
    "else:\n",
    "    print(\"nope\")"
   ]
  },
  {
   "cell_type": "code",
   "execution_count": null,
   "id": "93ff721e-8a6d-4cc3-9a11-43ff1f60877a",
   "metadata": {},
   "outputs": [],
   "source": []
  }
 ],
 "metadata": {
  "kernelspec": {
   "display_name": "Python 3 (ipykernel)",
   "language": "python",
   "name": "python3"
  },
  "language_info": {
   "codemirror_mode": {
    "name": "ipython",
    "version": 3
   },
   "file_extension": ".py",
   "mimetype": "text/x-python",
   "name": "python",
   "nbconvert_exporter": "python",
   "pygments_lexer": "ipython3",
   "version": "3.12.0"
  }
 },
 "nbformat": 4,
 "nbformat_minor": 5
}
