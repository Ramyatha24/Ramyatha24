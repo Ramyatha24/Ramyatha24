{
 "cells": [
  {
   "cell_type": "code",
   "execution_count": 12,
   "id": "45f8bb0e-38cb-48ff-ab45-a2f60be5dab8",
   "metadata": {},
   "outputs": [
    {
     "name": "stdin",
     "output_type": "stream",
     "text": [
      "enter n: 20\n"
     ]
    },
    {
     "name": "stdout",
     "output_type": "stream",
     "text": [
      "1234567891011121314151617181920"
     ]
    }
   ],
   "source": [
    "#to print n natural nos\n",
    "n=int(input(\"enter n:\"))\n",
    "i=0\n",
    "while i<n:\n",
    "    i=i+1\n",
    "    print(i,end='')"
   ]
  },
  {
   "cell_type": "code",
   "execution_count": 13,
   "id": "e45e2ce3-6463-4718-b30f-37e1d458f67e",
   "metadata": {},
   "outputs": [
    {
     "name": "stdin",
     "output_type": "stream",
     "text": [
      "enter n: 10\n"
     ]
    },
    {
     "name": "stdout",
     "output_type": "stream",
     "text": [
      "246810"
     ]
    }
   ],
   "source": [
    "#to print even nos upto n\n",
    "n=int(input(\"enter n:\"))\n",
    "i=0\n",
    "while i<n:\n",
    "    i=i+2\n",
    "    print(i,end='')"
   ]
  },
  {
   "cell_type": "code",
   "execution_count": 1,
   "id": "dc23ead4-b979-451f-9bc2-73f6fcfabdeb",
   "metadata": {},
   "outputs": [
    {
     "name": "stdin",
     "output_type": "stream",
     "text": [
      "enter n: 10\n"
     ]
    },
    {
     "name": "stdout",
     "output_type": "stream",
     "text": [
      "357911"
     ]
    }
   ],
   "source": [
    "#to print odd nos upto n\n",
    "n=int(input(\"enter n:\"))\n",
    "i=1\n",
    "while i<n:\n",
    "    i=i+2 \n",
    "    print(i,end='')   "
   ]
  },
  {
   "cell_type": "code",
   "execution_count": 12,
   "id": "9a7d4291-098d-42dd-bf9f-f17821bbfa5f",
   "metadata": {},
   "outputs": [
    {
     "name": "stdin",
     "output_type": "stream",
     "text": [
      "enter a value 2\n"
     ]
    },
    {
     "name": "stdout",
     "output_type": "stream",
     "text": [
      "0"
     ]
    }
   ],
   "source": [
    "#to print sum of natural nos upto n\n",
    "n=int(input(\"enter a value\"))\n",
    "i=1\n",
    "summ=0\n",
    "while i<n:\n",
    "    print(summ,end='')\n",
    "    summ=summ+i\n",
    "    i=i+1\n",
    "    "
   ]
  },
  {
   "cell_type": "code",
   "execution_count": 14,
   "id": "4f810d4b-8143-4919-9632-20600d524a3d",
   "metadata": {},
   "outputs": [
    {
     "name": "stdin",
     "output_type": "stream",
     "text": [
      "enter a value 10\n"
     ]
    },
    {
     "name": "stdout",
     "output_type": "stream",
     "text": [
      "10987654321"
     ]
    }
   ],
   "source": [
    "#to print naturalnos in reverse order\n",
    "i=int(input(\"enter a value\"))\n",
    "while i>=1:\n",
    "    print(i,end='')\n",
    "    i=i-1"
   ]
  },
  {
   "cell_type": "code",
   "execution_count": 16,
   "id": "865889f8-3a24-44db-8f66-a2b509fbebd8",
   "metadata": {},
   "outputs": [
    {
     "name": "stdout",
     "output_type": "stream",
     "text": [
      "1\n",
      "2\n",
      "3\n",
      "4\n",
      "5\n",
      "no items left\n"
     ]
    }
   ],
   "source": [
    "#for loop \n",
    "wtv=[1,2,3,4,5]\n",
    "for _ in wtv:\n",
    "    print(_)\n",
    "else:\n",
    "    print(\"no items left\")"
   ]
  },
  {
   "cell_type": "code",
   "execution_count": 17,
   "id": "3693e859-7e69-4681-85f2-2f53355b030a",
   "metadata": {},
   "outputs": [
    {
     "name": "stdout",
     "output_type": "stream",
     "text": [
      "1\n",
      "2\n",
      "3\n",
      "4\n"
     ]
    }
   ],
   "source": [
    "#for loop using range\n",
    "for i in range(1,5):\n",
    "    print(i)"
   ]
  },
  {
   "cell_type": "code",
   "execution_count": 1,
   "id": "04ae56bc-d2a7-4a60-bd5b-858a18dc0c99",
   "metadata": {},
   "outputs": [
    {
     "name": "stdout",
     "output_type": "stream",
     "text": [
      "20191817161514131211"
     ]
    }
   ],
   "source": [
    "for _ in range(20,10,-1):\n",
    "    print(_,end='')"
   ]
  },
  {
   "cell_type": "code",
   "execution_count": 3,
   "id": "8f441c95-1920-4e16-bb31-1fd7fb5b9755",
   "metadata": {},
   "outputs": [
    {
     "name": "stdout",
     "output_type": "stream",
     "text": [
      "0\n",
      "0\n",
      "1\n",
      "0\n",
      "1\n",
      "2\n",
      "0\n",
      "1\n",
      "2\n",
      "3\n"
     ]
    }
   ],
   "source": [
    "for i in range(1,5):\n",
    "    for j in range(i):\n",
    "        print(j,end='')\n",
    "        print()"
   ]
  },
  {
   "cell_type": "code",
   "execution_count": null,
   "id": "4bf25121-0bde-44d1-a370-4ae57ff86204",
   "metadata": {},
   "outputs": [],
   "source": []
  }
 ],
 "metadata": {
  "kernelspec": {
   "display_name": "Python 3 (ipykernel)",
   "language": "python",
   "name": "python3"
  },
  "language_info": {
   "codemirror_mode": {
    "name": "ipython",
    "version": 3
   },
   "file_extension": ".py",
   "mimetype": "text/x-python",
   "name": "python",
   "nbconvert_exporter": "python",
   "pygments_lexer": "ipython3",
   "version": "3.12.0"
  }
 },
 "nbformat": 4,
 "nbformat_minor": 5
}
