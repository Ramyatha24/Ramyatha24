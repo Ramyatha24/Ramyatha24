{
 "cells": [
  {
   "cell_type": "code",
   "execution_count": 12,
   "id": "45f8bb0e-38cb-48ff-ab45-a2f60be5dab8",
   "metadata": {},
   "outputs": [
    {
     "name": "stdin",
     "output_type": "stream",
     "text": [
      "enter n: 20\n"
     ]
    },
    {
     "name": "stdout",
     "output_type": "stream",
     "text": [
      "1234567891011121314151617181920"
     ]
    }
   ],
   "source": [
    "#to print n natural nos\n",
    "n=int(input(\"enter n:\"))\n",
    "i=0\n",
    "while i<n:\n",
    "    i=i+1\n",
    "    print(i,end='')"
   ]
  },
  {
   "cell_type": "code",
   "execution_count": 13,
   "id": "e45e2ce3-6463-4718-b30f-37e1d458f67e",
   "metadata": {},
   "outputs": [
    {
     "name": "stdin",
     "output_type": "stream",
     "text": [
      "enter n: 10\n"
     ]
    },
    {
     "name": "stdout",
     "output_type": "stream",
     "text": [
      "246810"
     ]
    }
   ],
   "source": [
    "#to print even nos upto n\n",
    "n=int(input(\"enter n:\"))\n",
    "i=0\n",
    "while i<n:\n",
    "    i=i+2\n",
    "    print(i,end='')"
   ]
  },
  {
   "cell_type": "code",
   "execution_count": null,
   "id": "dc23ead4-b979-451f-9bc2-73f6fcfabdeb",
   "metadata": {},
   "outputs": [],
   "source": [
    "#to print odd nos upto n\n",
    "n=int(input(\"enter n:\"))\n",
    "i=1\n",
    "while i<n:\n",
    "    if i%2!=0:\n",
    "        print(i,end='')\n",
    "    i=i+1    "
   ]
  },
  {
   "cell_type": "code",
   "execution_count": null,
   "id": "9a7d4291-098d-42dd-bf9f-f17821bbfa5f",
   "metadata": {},
   "outputs": [],
   "source": []
  },
  {
   "cell_type": "code",
   "execution_count": null,
   "id": "4f810d4b-8143-4919-9632-20600d524a3d",
   "metadata": {},
   "outputs": [],
   "source": []
  }
 ],
 "metadata": {
  "kernelspec": {
   "display_name": "Python 3 (ipykernel)",
   "language": "python",
   "name": "python3"
  },
  "language_info": {
   "codemirror_mode": {
    "name": "ipython",
    "version": 3
   },
   "file_extension": ".py",
   "mimetype": "text/x-python",
   "name": "python",
   "nbconvert_exporter": "python",
   "pygments_lexer": "ipython3",
   "version": "3.12.0"
  }
 },
 "nbformat": 4,
 "nbformat_minor": 5
}
